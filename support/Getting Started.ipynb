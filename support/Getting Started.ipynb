{
 "cells": [
  {
   "cell_type": "markdown",
   "metadata": {},
   "source": [
    "# Getting Started\n"
   ]
  },
  {
   "cell_type": "markdown",
   "metadata": {},
   "source": [
    "## Load GENI-Lib Interactive Shell"
   ]
  },
  {
   "cell_type": "markdown",
   "metadata": {},
   "source": [
    "At the first line of every notebook where you want to use `geni-lib`, you need to load the `genish` extension.  It will set up your environment with your GENI credentials and import useful modules automatically.  Note that `genish` only works with Python 2 notebooks at this time."
   ]
  },
  {
   "cell_type": "code",
   "execution_count": null,
   "metadata": {
    "collapsed": false
   },
   "outputs": [],
   "source": [
    "%load_ext genish"
   ]
  },
  {
   "cell_type": "markdown",
   "metadata": {},
   "source": [
    "Partial API documentation and some examples can be found in the geni-lib documentation on the web  \n",
    "at http://geni-lib.readthedocs.io"
   ]
  },
  {
   "cell_type": "markdown",
   "metadata": {},
   "source": [
    "## Pre-imported Shortcuts"
   ]
  },
  {
   "cell_type": "markdown",
   "metadata": {},
   "source": [
    "For convenience, `%load_ext genish` also imported a number of commonly used `geni-lib` modules into short names that are easier to type for interactive use:\n",
    "\n",
    "| Module | Imported Name |\n",
    "|--------|---------------|\n",
    "| geni.rspec.pg | PG |\n",
    "| geni.rspec.vts | VTS |\n",
    "| geni.aggregate.cloudlab | CLAM |\n",
    "| geni.aggregate.exogeni | EGAM |\n",
    "| geni.aggregate.instageni | IGAM |\n",
    "| geni.aggregate.vts | VTSAM |\n",
    "| pprint.pprint | PP |\n",
    "\n",
    "The examples in the documentation generally use this shorthand as well (although typically with the imports explicitly marked for you)."
   ]
  },
  {
   "cell_type": "markdown",
   "metadata": {},
   "source": [
    "## Notebook-specific methods"
   ]
  },
  {
   "cell_type": "markdown",
   "metadata": {},
   "source": [
    "A special `genish` namespace has been created which contains some utilities that are only found in the Jupyter notebook interface.  These provide convenient functionality for working with `geni-lib` interactively.\n",
    "\n",
    "These convenience functions are:\n",
    "\n",
    "* `genish.grid` - Create a grid in the UI with the provided header and data\n",
    "* `genish.printlogininfo` - Display the ssh login info for resources in the provided manifest\n",
    "* `genish.showErrorURL` - Toggle display of ProtoGENI error URLs when they are available\n",
    "* `genish.showtopo` - Render a visual topology display of the provided manifest(s) (uses graphviz)\n",
    "\n",
    "You can use the `help()` function on any of the above symbols to learn about their arguments:"
   ]
  },
  {
   "cell_type": "code",
   "execution_count": 2,
   "metadata": {
    "collapsed": false
   },
   "outputs": [
    {
     "name": "stdout",
     "output_type": "stream",
     "text": [
      "Help on function listGridMaker in module geni.support.ipython:\n",
      "\n",
      "listGridMaker(iterable, cols=2, hdr=None, sort=False)\n",
      "\n"
     ]
    }
   ],
   "source": [
    "help(genish.grid)"
   ]
  },
  {
   "cell_type": "markdown",
   "metadata": {},
   "source": [
    "A simple example of the grid display:"
   ]
  },
  {
   "cell_type": "code",
   "execution_count": 3,
   "metadata": {
    "collapsed": false
   },
   "outputs": [
    {
     "data": {
      "text/html": [
       "\n",
       "    <table>\n",
       "    <tr><th colspan=\"8\" scope=\"row\"><b>Number List</b></th></tr>\n",
       "    <tr><td>0</td><td>1</td><td>2</td><td>3</td><td>4</td><td>5</td><td>6</td><td>7</td></tr>\n",
       "<tr><td>8</td><td>9</td><td>10</td><td>11</td><td>12</td><td>13</td><td>14</td><td>15</td></tr>\n",
       "<tr><td>16</td><td>17</td><td>18</td><td>19</td><td>20</td><td>21</td><td>22</td><td>23</td></tr>\n",
       "<tr><td>24</td><td>25</td><td>26</td><td>27</td><td>28</td><td>29</td><td>30</td><td>31</td></tr>\n",
       "<tr><td>32</td><td>33</td><td>34</td><td>35</td><td>36</td><td>37</td><td>38</td><td>39</td></tr>\n",
       "<tr><td>40</td><td>41</td><td>42</td><td>43</td><td>44</td><td>&nbsp;</td><td>&nbsp;</td><td>&nbsp;</td></tr>\n",
       "    </table>\n",
       "    "
      ],
      "text/plain": [
       "<geni.support.ipython.ListGrid at 0xb18e6a6c>"
      ]
     },
     "execution_count": 3,
     "metadata": {},
     "output_type": "execute_result"
    }
   ],
   "source": [
    "genish.grid(xrange(45), cols=8, hdr=\"Number List\", sort=True)"
   ]
  },
  {
   "cell_type": "markdown",
   "metadata": {},
   "source": [
    "## Updating `geni-lib`"
   ]
  },
  {
   "cell_type": "markdown",
   "metadata": {},
   "source": [
    "You will at times need to update `geni-lib` within the vagrant VM in order to get new features, fix bugs, etc.  You can of course copy your notebooks out of the VM and rebuild it from a scratch (relatively quick and painless), but this generally unnecessary unless things get really screwed up.\n",
    "\n",
    "You can use the Terminal feature of Jupyter to get a shell for the current VM and do your update.  At the directory tree view (the default non-notebook view), from the same menu where you chose **New->(Notebooks) Python 2**, you can choose **New->Terminal**.  By default, you start in the `/vagrant` directory (the directory your VM shares with your host, to easily move files back and forth).  `geni-lib` is cloned into your home directory, so you can update it using the following:\n",
    "\n",
    "* `cd ~/geni-lib`\n",
    "* `hg pull -u`\n",
    "* `sudo pip install --upgrade .`\n",
    "\n",
    "You will have to restart all the notebooks that are currently running in order to load the new `geni-lib` into your active workspace.  You can do this by executing **Kernel->Restart** from the menu bar in each notebook."
   ]
  }
 ],
 "metadata": {
  "kernelspec": {
   "display_name": "Python 2",
   "language": "python",
   "name": "python2"
  },
  "language_info": {
   "codemirror_mode": {
    "name": "ipython",
    "version": 2
   },
   "file_extension": ".py",
   "mimetype": "text/x-python",
   "name": "python",
   "nbconvert_exporter": "python",
   "pygments_lexer": "ipython2",
   "version": "2.7.6"
  }
 },
 "nbformat": 4,
 "nbformat_minor": 2
}
